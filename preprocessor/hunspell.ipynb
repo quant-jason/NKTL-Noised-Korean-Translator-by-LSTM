{
 "cells": [
  {
   "cell_type": "code",
   "execution_count": 1,
   "metadata": {},
   "outputs": [
    {
     "ename": "ModuleNotFoundError",
     "evalue": "No module named 'hunspell'",
     "output_type": "error",
     "traceback": [
      "\u001b[1;31m---------------------------------------------------------------------------\u001b[0m",
      "\u001b[1;31mModuleNotFoundError\u001b[0m                       Traceback (most recent call last)",
      "Cell \u001b[1;32mIn[1], line 2\u001b[0m\n\u001b[0;32m      1\u001b[0m \u001b[38;5;28;01mimport\u001b[39;00m \u001b[38;5;21;01mpandas\u001b[39;00m \u001b[38;5;28;01mas\u001b[39;00m \u001b[38;5;21;01mpd\u001b[39;00m\n\u001b[1;32m----> 2\u001b[0m \u001b[38;5;28;01mimport\u001b[39;00m \u001b[38;5;21;01mhunspell\u001b[39;00m\n\u001b[0;32m      4\u001b[0m \u001b[38;5;66;03m# CSV 파일 경로\u001b[39;00m\n\u001b[0;32m      5\u001b[0m csv_path \u001b[38;5;241m=\u001b[39m \u001b[38;5;124m\"\u001b[39m\u001b[38;5;124m../database/submission/lstm_submission.csv\u001b[39m\u001b[38;5;124m\"\u001b[39m\n",
      "\u001b[1;31mModuleNotFoundError\u001b[0m: No module named 'hunspell'"
     ]
    }
   ],
   "source": [
    "import pandas as pd\n",
    "import hunspell\n",
    "\n",
    "# CSV 파일 경로\n",
    "csv_path = \"../database/submission/lstm_submission.csv\"\n",
    "\n",
    "# Hunspell 한글 맞춤법 검사기 초기화\n",
    "hunspell_path = \"/usr/share/hunspell\"  # Hunspell 사전 파일이 있는 경로 (OS에 따라 다름)\n",
    "h = hunspell.HunSpell(f\"{hunspell_path}/ko.dic\", f\"{hunspell_path}/ko.aff\")\n",
    "\n",
    "def correct_word(word):\n",
    "    \"\"\"단어를 Hunspell을 이용하여 교정\"\"\"\n",
    "    if h.spell(word):  # 올바른 단어라면 그대로 반환\n",
    "        return word\n",
    "    suggestions = h.suggest(word)  # 교정 후보 가져오기\n",
    "    return suggestions[0] if suggestions else word  # 첫 번째 추천 단어 반환 (없으면 원래 단어 유지)\n",
    "\n",
    "def correct_sentence(sentence):\n",
    "    \"\"\"문장 내 개별 단어를 교정\"\"\"\n",
    "    words = sentence.split()  # 띄어쓰기를 기준으로 단어 분할\n",
    "    corrected_words = [correct_word(word) for word in words]  # 각 단어 교정\n",
    "    return \" \".join(corrected_words)  # 다시 문장으로 합침\n",
    "\n",
    "# CSV 파일 로드\n",
    "df = pd.read_csv(csv_path)\n",
    "\n",
    "# output 컬럼의 단어 교정 수행\n",
    "df[\"output\"] = df[\"output\"].apply(correct_sentence)\n",
    "\n",
    "# 교정된 CSV 저장\n",
    "output_path = \"../database/submission/lstm_corrected.csv\"\n",
    "df.to_csv(output_path, index=False)\n",
    "\n",
    "print(f\"✅ 교정된 파일이 저장되었습니다: {output_path}\")\n"
   ]
  }
 ],
 "metadata": {
  "kernelspec": {
   "display_name": "base",
   "language": "python",
   "name": "python3"
  },
  "language_info": {
   "codemirror_mode": {
    "name": "ipython",
    "version": 3
   },
   "file_extension": ".py",
   "mimetype": "text/x-python",
   "name": "python",
   "nbconvert_exporter": "python",
   "pygments_lexer": "ipython3",
   "version": "3.9.13"
  }
 },
 "nbformat": 4,
 "nbformat_minor": 2
}
